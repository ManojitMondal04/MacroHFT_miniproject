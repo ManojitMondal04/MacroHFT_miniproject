{
  "nbformat": 4,
  "nbformat_minor": 0,
  "metadata": {
    "colab": {
      "provenance": [],
      "gpuType": "T4",
      "include_colab_link": true
    },
    "kernelspec": {
      "name": "python3",
      "display_name": "Python 3"
    },
    "language_info": {
      "name": "python"
    },
    "accelerator": "GPU"
  },
  "cells": [
    {
      "cell_type": "markdown",
      "metadata": {
        "id": "view-in-github",
        "colab_type": "text"
      },
      "source": [
        "<a href=\"https://colab.research.google.com/github/Rishirajbal/MacroHFT/blob/main/data_split.ipynb\" target=\"_parent\"><img src=\"https://colab.research.google.com/assets/colab-badge.svg\" alt=\"Open In Colab\"/></a>"
      ]
    },
    {
      "cell_type": "code",
      "source": [
        "import zipfile\n",
        "import os\n",
        "\n",
        "# Unzip the archive.zip into /content/data\n",
        "with zipfile.ZipFile('/content/archive.zip', 'r') as zip_ref:\n",
        "    zip_ref.extractall('/content/data')\n",
        "\n",
        "print(\"✅ Unzipped successfully!\")\n"
      ],
      "metadata": {
        "colab": {
          "base_uri": "https://localhost:8080/"
        },
        "id": "PvWYgjnrZZ_C",
        "outputId": "0a4bb82e-4cba-4d3c-f32b-433411ca8971"
      },
      "execution_count": null,
      "outputs": [
        {
          "output_type": "stream",
          "name": "stdout",
          "text": [
            "✅ Unzipped successfully!\n"
          ]
        }
      ]
    },
    {
      "cell_type": "code",
      "source": [
        "import os\n",
        "\n",
        "# Base extraction path\n",
        "base_path = '/content/data'\n",
        "\n",
        "# Walk through extracted directories\n",
        "for folder, subfolders, files in os.walk(base_path):\n",
        "    print(f\"📁 Folder: {folder} - {len(files)} files\")\n"
      ],
      "metadata": {
        "colab": {
          "base_uri": "https://localhost:8080/"
        },
        "id": "l2gT4KKbZ5uR",
        "outputId": "15e25b3d-bcdc-49e4-cce9-6e58a4753504"
      },
      "execution_count": null,
      "outputs": [
        {
          "output_type": "stream",
          "name": "stdout",
          "text": [
            "📁 Folder: /content/data - 1 files\n",
            "📁 Folder: /content/data/stocks - 5884 files\n",
            "📁 Folder: /content/data/etfs - 2165 files\n"
          ]
        }
      ]
    },
    {
      "cell_type": "code",
      "source": [
        "import pandas as pd\n",
        "from sklearn.model_selection import train_test_split\n",
        "import os\n",
        "\n",
        "# Set base path to extracted directory\n",
        "base_path = '/content/data'\n",
        "\n",
        "etfs_path = os.path.join(base_path, 'etfs')\n",
        "stocks_path = os.path.join(base_path, 'stocks')\n",
        "\n",
        "# Load ETF files\n",
        "try:\n",
        "    etf_files = [os.path.join(etfs_path, file) for file in os.listdir(etfs_path) if file.endswith('.csv')]\n",
        "    etf_data = pd.concat([pd.read_csv(file, low_memory=False) for file in etf_files], ignore_index=True)\n",
        "    print(f\"✅ Loaded {len(etf_files)} ETF files with shape: {etf_data.shape}\")\n",
        "except FileNotFoundError:\n",
        "    print(f\"⚠️ ETF folder not found at {etfs_path}\")\n",
        "    etf_data = pd.DataFrame()\n",
        "\n",
        "# Load Stock files\n",
        "try:\n",
        "    stock_files = [os.path.join(stocks_path, file) for file in os.listdir(stocks_path) if file.endswith('.csv')]\n",
        "    stock_data = pd.concat([pd.read_csv(file, low_memory=False) for file in stock_files], ignore_index=True)\n",
        "    print(f\"✅ Loaded {len(stock_files)} Stock files with shape: {stock_data.shape}\")\n",
        "except FileNotFoundError:\n",
        "    print(f\"⚠️ Stock folder not found at {stocks_path}\")\n",
        "    stock_data = pd.DataFrame()\n",
        "\n",
        "# Merge ETF and Stock data\n",
        "all_data = pd.concat([etf_data, stock_data], ignore_index=True)\n",
        "print(f\"✅ Combined data shape: {all_data.shape}\")\n",
        "\n",
        "# Optional: Reduce size for memory if dataset is too large\n",
        "if len(all_data) > 5_000_000:\n",
        "    all_data = all_data.sample(2_000_000, random_state=42)\n",
        "    print(\"⚠️ Sampled down to 2 million rows due to memory limits\")\n",
        "\n",
        "# Split into train, test, validate\n",
        "df_train, df_temp = train_test_split(all_data, test_size=0.3, random_state=42)\n",
        "df_test, df_validate = train_test_split(df_temp, test_size=0.33, random_state=42)\n",
        "\n",
        "# Save output CSVs\n",
        "output_path = os.path.join(base_path, 'output_offline')\n",
        "os.makedirs(output_path, exist_ok=True)\n",
        "\n",
        "df_train.to_csv(os.path.join(output_path, 'df_train.csv'), index=False)\n",
        "df_test.to_csv(os.path.join(output_path, 'df_test.csv'), index=False)\n",
        "df_validate.to_csv(os.path.join(output_path, 'df_validate.csv'), index=False)\n",
        "\n",
        "print(\"✅ Train, Test, and Validate CSV files created successfully!\")\n"
      ],
      "metadata": {
        "colab": {
          "base_uri": "https://localhost:8080/"
        },
        "id": "FTVDMfvBZawp",
        "outputId": "20a49ab4-6280-496c-8316-90675fbc49f8"
      },
      "execution_count": null,
      "outputs": [
        {
          "output_type": "stream",
          "name": "stdout",
          "text": [
            "✅ Loaded 2165 ETF files with shape: (3954316, 7)\n",
            "✅ Loaded 5884 Stock files with shape: (24197442, 7)\n",
            "✅ Combined data shape: (28151758, 7)\n",
            "⚠️ Sampled down to 2 million rows due to memory limits\n",
            "✅ Train, Test, and Validate CSV files created successfully!\n"
          ]
        }
      ]
    },
    {
      "cell_type": "code",
      "source": [
        "from google.colab import files\n",
        "files.download(os.path.join(output_path, 'df_train.csv'))\n",
        "files.download(os.path.join(output_path, 'df_test.csv'))\n",
        "files.download(os.path.join(output_path, 'df_validate.csv'))\n"
      ],
      "metadata": {
        "colab": {
          "base_uri": "https://localhost:8080/",
          "height": 69
        },
        "id": "Puq80TB0Zcou",
        "outputId": "dbcb9a49-0cf5-4ed9-f048-d1bb002a132c"
      },
      "execution_count": null,
      "outputs": [
        {
          "output_type": "display_data",
          "data": {
            "text/plain": [
              "<IPython.core.display.Javascript object>"
            ],
            "application/javascript": [
              "\n",
              "    async function download(id, filename, size) {\n",
              "      if (!google.colab.kernel.accessAllowed) {\n",
              "        return;\n",
              "      }\n",
              "      const div = document.createElement('div');\n",
              "      const label = document.createElement('label');\n",
              "      label.textContent = `Downloading \"${filename}\": `;\n",
              "      div.appendChild(label);\n",
              "      const progress = document.createElement('progress');\n",
              "      progress.max = size;\n",
              "      div.appendChild(progress);\n",
              "      document.body.appendChild(div);\n",
              "\n",
              "      const buffers = [];\n",
              "      let downloaded = 0;\n",
              "\n",
              "      const channel = await google.colab.kernel.comms.open(id);\n",
              "      // Send a message to notify the kernel that we're ready.\n",
              "      channel.send({})\n",
              "\n",
              "      for await (const message of channel.messages) {\n",
              "        // Send a message to notify the kernel that we're ready.\n",
              "        channel.send({})\n",
              "        if (message.buffers) {\n",
              "          for (const buffer of message.buffers) {\n",
              "            buffers.push(buffer);\n",
              "            downloaded += buffer.byteLength;\n",
              "            progress.value = downloaded;\n",
              "          }\n",
              "        }\n",
              "      }\n",
              "      const blob = new Blob(buffers, {type: 'application/binary'});\n",
              "      const a = document.createElement('a');\n",
              "      a.href = window.URL.createObjectURL(blob);\n",
              "      a.download = filename;\n",
              "      div.appendChild(a);\n",
              "      a.click();\n",
              "      div.remove();\n",
              "    }\n",
              "  "
            ]
          },
          "metadata": {}
        },
        {
          "output_type": "display_data",
          "data": {
            "text/plain": [
              "<IPython.core.display.Javascript object>"
            ],
            "application/javascript": [
              "download(\"download_a88c651b-939f-4820-8d67-682f9b0d97f9\", \"df_train.csv\", 138576146)"
            ]
          },
          "metadata": {}
        },
        {
          "output_type": "display_data",
          "data": {
            "text/plain": [
              "<IPython.core.display.Javascript object>"
            ],
            "application/javascript": [
              "\n",
              "    async function download(id, filename, size) {\n",
              "      if (!google.colab.kernel.accessAllowed) {\n",
              "        return;\n",
              "      }\n",
              "      const div = document.createElement('div');\n",
              "      const label = document.createElement('label');\n",
              "      label.textContent = `Downloading \"${filename}\": `;\n",
              "      div.appendChild(label);\n",
              "      const progress = document.createElement('progress');\n",
              "      progress.max = size;\n",
              "      div.appendChild(progress);\n",
              "      document.body.appendChild(div);\n",
              "\n",
              "      const buffers = [];\n",
              "      let downloaded = 0;\n",
              "\n",
              "      const channel = await google.colab.kernel.comms.open(id);\n",
              "      // Send a message to notify the kernel that we're ready.\n",
              "      channel.send({})\n",
              "\n",
              "      for await (const message of channel.messages) {\n",
              "        // Send a message to notify the kernel that we're ready.\n",
              "        channel.send({})\n",
              "        if (message.buffers) {\n",
              "          for (const buffer of message.buffers) {\n",
              "            buffers.push(buffer);\n",
              "            downloaded += buffer.byteLength;\n",
              "            progress.value = downloaded;\n",
              "          }\n",
              "        }\n",
              "      }\n",
              "      const blob = new Blob(buffers, {type: 'application/binary'});\n",
              "      const a = document.createElement('a');\n",
              "      a.href = window.URL.createObjectURL(blob);\n",
              "      a.download = filename;\n",
              "      div.appendChild(a);\n",
              "      a.click();\n",
              "      div.remove();\n",
              "    }\n",
              "  "
            ]
          },
          "metadata": {}
        },
        {
          "output_type": "display_data",
          "data": {
            "text/plain": [
              "<IPython.core.display.Javascript object>"
            ],
            "application/javascript": [
              "download(\"download_3a33406f-dd45-426f-8f23-dd23bb994d37\", \"df_test.csv\", 39818735)"
            ]
          },
          "metadata": {}
        },
        {
          "output_type": "display_data",
          "data": {
            "text/plain": [
              "<IPython.core.display.Javascript object>"
            ],
            "application/javascript": [
              "\n",
              "    async function download(id, filename, size) {\n",
              "      if (!google.colab.kernel.accessAllowed) {\n",
              "        return;\n",
              "      }\n",
              "      const div = document.createElement('div');\n",
              "      const label = document.createElement('label');\n",
              "      label.textContent = `Downloading \"${filename}\": `;\n",
              "      div.appendChild(label);\n",
              "      const progress = document.createElement('progress');\n",
              "      progress.max = size;\n",
              "      div.appendChild(progress);\n",
              "      document.body.appendChild(div);\n",
              "\n",
              "      const buffers = [];\n",
              "      let downloaded = 0;\n",
              "\n",
              "      const channel = await google.colab.kernel.comms.open(id);\n",
              "      // Send a message to notify the kernel that we're ready.\n",
              "      channel.send({})\n",
              "\n",
              "      for await (const message of channel.messages) {\n",
              "        // Send a message to notify the kernel that we're ready.\n",
              "        channel.send({})\n",
              "        if (message.buffers) {\n",
              "          for (const buffer of message.buffers) {\n",
              "            buffers.push(buffer);\n",
              "            downloaded += buffer.byteLength;\n",
              "            progress.value = downloaded;\n",
              "          }\n",
              "        }\n",
              "      }\n",
              "      const blob = new Blob(buffers, {type: 'application/binary'});\n",
              "      const a = document.createElement('a');\n",
              "      a.href = window.URL.createObjectURL(blob);\n",
              "      a.download = filename;\n",
              "      div.appendChild(a);\n",
              "      a.click();\n",
              "      div.remove();\n",
              "    }\n",
              "  "
            ]
          },
          "metadata": {}
        },
        {
          "output_type": "display_data",
          "data": {
            "text/plain": [
              "<IPython.core.display.Javascript object>"
            ],
            "application/javascript": [
              "download(\"download_33d3ee72-6f31-4ff8-8597-8b651e289754\", \"df_validate.csv\", 19596496)"
            ]
          },
          "metadata": {}
        }
      ]
    },
    {
      "cell_type": "code",
      "source": [
        "from google.colab import drive\n",
        "drive.mount('/content/drive')"
      ],
      "metadata": {
        "colab": {
          "base_uri": "https://localhost:8080/"
        },
        "id": "SESZSwMIZe2B",
        "outputId": "cb1d03c9-49f0-4617-8777-00bcbc41cf9c"
      },
      "execution_count": null,
      "outputs": [
        {
          "output_type": "stream",
          "name": "stdout",
          "text": [
            "Mounted at /content/drive\n"
          ]
        }
      ]
    },
    {
      "cell_type": "code",
      "source": [
        "# Example Drive path (change 'MyDrive/your_folder' as needed)\n",
        "drive_output_path = '/content/drive/MyDrive/Rishi/'\n",
        "\n",
        "os.makedirs(drive_output_path, exist_ok=True)\n",
        "\n",
        "# Copy CSVs to Drive\n",
        "for file_name in ['df_train.csv', 'df_test.csv', 'df_validate.csv']:\n",
        "    src = os.path.join(output_path, file_name)\n",
        "    dst = os.path.join(drive_output_path, file_name)\n",
        "    os.system(f'cp {src} {dst}')\n",
        "    print(f\"✅ Uploaded {file_name} to Google Drive.\")\n"
      ],
      "metadata": {
        "colab": {
          "base_uri": "https://localhost:8080/"
        },
        "id": "mz_hcPMBaCX-",
        "outputId": "14daa3b7-11b3-401d-849d-c9b5fc1df3fb"
      },
      "execution_count": null,
      "outputs": [
        {
          "output_type": "stream",
          "name": "stdout",
          "text": [
            "✅ Uploaded df_train.csv to Google Drive.\n",
            "✅ Uploaded df_test.csv to Google Drive.\n",
            "✅ Uploaded df_validate.csv to Google Drive.\n"
          ]
        }
      ]
    }
  ]
}